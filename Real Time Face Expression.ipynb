{
 "cells": [
  {
   "cell_type": "code",
   "execution_count": 18,
   "metadata": {},
   "outputs": [],
   "source": [
    "import cv2\n",
    "import tensorflow as tf\n",
    "import matplotlib.pyplot as plt\n",
    "import time"
   ]
  },
  {
   "cell_type": "code",
   "execution_count": 19,
   "metadata": {},
   "outputs": [],
   "source": [
    "size = 4\n",
    "classifier = cv2.CascadeClassifier('G:\\Machine Learning\\opencv\\opencv-master\\data\\haarcascades/haarcascade_frontalface_default.xml')"
   ]
  },
  {
   "cell_type": "code",
   "execution_count": 20,
   "metadata": {},
   "outputs": [],
   "source": [
    "CATEGORIES=[\"angry\", \"disgust\",\"fear\",\"happy\",\"neutral\",\"sad\",\"surprise\"]"
   ]
  },
  {
   "cell_type": "code",
   "execution_count": 21,
   "metadata": {},
   "outputs": [],
   "source": [
    "def prepare(filepath):\n",
    "    IMZ_SIZE=60\n",
    "    img_array= cv2.imread(filepath, cv2.IMREAD_GRAYSCALE)\n",
    "    new_array= cv2.resize(img_array, (IMZ_SIZE, IMZ_SIZE))\n",
    "    return new_array.reshape(-1, IMZ_SIZE, IMZ_SIZE, 1)"
   ]
  },
  {
   "cell_type": "code",
   "execution_count": 22,
   "metadata": {},
   "outputs": [],
   "source": [
    "model2= tf.keras.models.load_model(\"faceExprssion\")"
   ]
  },
  {
   "cell_type": "code",
   "execution_count": 54,
   "metadata": {},
   "outputs": [
    {
     "name": "stdout",
     "output_type": "stream",
     "text": [
      "fps: 10\n"
     ]
    }
   ],
   "source": [
    "webcam = cv2.VideoCapture(0 + cv2.CAP_DSHOW)\n",
    "time.sleep(0.070)\n",
    "webcam.set(cv2.CAP_PROP_FPS, 10)\n",
    "fps = int(webcam.get(5))\n",
    "print(\"fps:\", fps)"
   ]
  },
  {
   "cell_type": "code",
   "execution_count": 55,
   "metadata": {},
   "outputs": [],
   "source": [
    "while True:\n",
    "    (rval, im) = webcam.read()\n",
    "    im=cv2.flip(im,1,0) #Flip to act as a mirror\n",
    "\n",
    "    # Resize the image to speed up detection\n",
    "    mini = cv2.resize(im, (int(im.shape[1] / size), int(im.shape[0] / size)))\n",
    "\n",
    "    # detect MultiScale / faces \n",
    "    faces = classifier.detectMultiScale(mini)\n",
    "\n",
    "    # Draw rectangles around each face\n",
    "    for f in faces:\n",
    "        (x, y, w, h) = [v * size for v in f] #Scale the shapesize backup\n",
    "        cv2.rectangle(im, (x, y), (x + w, y + h),(0,255,0),thickness=4)\n",
    "        #Save just the rectangle faces in SubRecFaces\n",
    "        sub_face = im[y:y+h, x:x+w]\n",
    "        FaceFileName = \"test.jpg\"  #unknowfaces\" + str(y) + \"\n",
    "        cv2.imwrite(FaceFileName ,sub_face)\n",
    "        font = cv2.FONT_HERSHEY_SIMPLEX\n",
    "    prediction= model2.predict(prepare(\"test.jpg\"))\n",
    "    x=prediction.flatten().astype(int)\n",
    "    for i,j in enumerate(x):\n",
    "       if j==1:\n",
    "        cv2.putText(im,CATEGORIES[i],(220,150), font, 2,(255,255,255),6,cv2.LINE_AA)\n",
    "        time.sleep(0.130)\n",
    "    # Show the image\n",
    "    cv2.imshow('Avichal',im)\n",
    "    if cv2.waitKey(20) & 0xFF==ord('q'):\n",
    "        break\n",
    "webcam.release()\n",
    "cv2.destroyAllWindows()"
   ]
  },
  {
   "cell_type": "code",
   "execution_count": null,
   "metadata": {},
   "outputs": [],
   "source": []
  },
  {
   "cell_type": "code",
   "execution_count": null,
   "metadata": {},
   "outputs": [],
   "source": []
  }
 ],
 "metadata": {
  "kernelspec": {
   "display_name": "Python 3",
   "language": "python",
   "name": "python3"
  },
  "language_info": {
   "codemirror_mode": {
    "name": "ipython",
    "version": 3
   },
   "file_extension": ".py",
   "mimetype": "text/x-python",
   "name": "python",
   "nbconvert_exporter": "python",
   "pygments_lexer": "ipython3",
   "version": "3.7.2"
  }
 },
 "nbformat": 4,
 "nbformat_minor": 2
}
